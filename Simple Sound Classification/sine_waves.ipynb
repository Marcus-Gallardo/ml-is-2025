{
 "cells": [
  {
   "cell_type": "markdown",
   "id": "1456d3a5",
   "metadata": {},
   "source": [
    "# Classifying Sine Waves"
   ]
  },
  {
   "cell_type": "markdown",
   "id": "c51a370b",
   "metadata": {},
   "source": [
    "## Imports"
   ]
  },
  {
   "cell_type": "code",
   "execution_count": 53,
   "id": "962fdfd8",
   "metadata": {},
   "outputs": [],
   "source": [
    "import numpy as np\n",
    "import matplotlib.pyplot as plt\n",
    "import soundfile as sf\n",
    "import librosa\n",
    "from sklearn.pipeline import Pipeline\n",
    "from sklearn.preprocessing import StandardScaler\n",
    "from sklearn.neighbors import KNeighborsClassifier\n",
    "from sklearn.ensemble import RandomForestClassifier\n",
    "from sklearn.model_selection import train_test_split, RandomizedSearchCV\n",
    "from sklearn.metrics import ConfusionMatrixDisplay, classification_report\n",
    "\n",
    "# Set np seed for consistency\n",
    "np.random.seed(42)"
   ]
  },
  {
   "cell_type": "markdown",
   "id": "6b45e9f8",
   "metadata": {},
   "source": [
    "## Generate Sine Waves"
   ]
  },
  {
   "cell_type": "code",
   "execution_count": 54,
   "id": "9c60e52f",
   "metadata": {},
   "outputs": [],
   "source": [
    "# Function for generating a sine wave with some noise\n",
    "def generate_sine_wave(freq, sr=22050, duration=1.0, noise=0.0):\n",
    "    # Generate time axis\n",
    "    t = np.linspace(0, duration, int(sr*duration), endpoint=False)\n",
    "\n",
    "    # Generate wave\n",
    "    wave = np.sin(2 * np.pi * freq * t)\n",
    "\n",
    "    # Add noise\n",
    "    wave += noise * np.random.randn(len(t))\n",
    "\n",
    "    return wave\n",
    "\n",
    "frequencies = [220, 250, 280, 310, 340, 370, 400, 440, 500, 550, 600, 650, 700, 750, 800, 880]\n",
    "\n",
    "# Number of sine waves to make per frequency\n",
    "samples_per_freq = 100\n",
    "\n",
    "# Noise to add to sine wave\n",
    "noise = 0.1\n",
    "\n",
    "X_waves = []\n",
    "y_labels = []\n",
    "\n",
    "for label, f in enumerate(frequencies):\n",
    "    for _ in range(samples_per_freq):\n",
    "        wave = generate_sine_wave(f, noise=noise)\n",
    "        X_waves.append(wave)\n",
    "        y_labels.append(label)\n",
    "\n",
    "X_waves = np.array(X_waves)\n",
    "y_labels = np.array(y_labels)\n"
   ]
  },
  {
   "cell_type": "markdown",
   "id": "f8f72ef3",
   "metadata": {},
   "source": [
    "## Extract features using librosa"
   ]
  },
  {
   "cell_type": "code",
   "execution_count": 55,
   "id": "7572d089",
   "metadata": {},
   "outputs": [],
   "source": [
    "def extract_features(wave, sr=22050, n_mfcc=13):\n",
    "    # Extract MFCCs\n",
    "    mfccs = librosa.feature.mfcc(y=wave, sr=sr, n_mfcc=n_mfcc)\n",
    "\n",
    "    # Calculate mean across time so vector is fixed length (average of all MFCC features)\n",
    "    mfccs_mean = np.mean(mfccs.T, axis=0)\n",
    "    return mfccs_mean\n",
    "\n",
    "X_features = np.array([extract_features(wave) for wave in X_waves])"
   ]
  },
  {
   "cell_type": "markdown",
   "id": "ef5c966f",
   "metadata": {},
   "source": [
    "## Train Test Split"
   ]
  },
  {
   "cell_type": "code",
   "execution_count": 56,
   "id": "2382c78d",
   "metadata": {},
   "outputs": [],
   "source": [
    "X_train, X_test, y_train, y_test = train_test_split(X_features, y_labels, test_size=0.2, stratify=y_labels, random_state=42)"
   ]
  },
  {
   "cell_type": "markdown",
   "id": "b765be49",
   "metadata": {},
   "source": [
    "## Create Pipelines"
   ]
  },
  {
   "cell_type": "code",
   "execution_count": 57,
   "id": "8f237660",
   "metadata": {},
   "outputs": [],
   "source": [
    "knn_pipeline = Pipeline([\n",
    "    (\"scaler\", StandardScaler()),\n",
    "    (\"knn\", KNeighborsClassifier())\n",
    "])"
   ]
  },
  {
   "cell_type": "markdown",
   "id": "6b6242e7",
   "metadata": {},
   "source": [
    "## Create Hyperparameter Grids"
   ]
  },
  {
   "cell_type": "code",
   "execution_count": 58,
   "id": "6f9f1f94",
   "metadata": {},
   "outputs": [],
   "source": [
    "knn_param_grid = [\n",
    "    {\n",
    "        \"knn__n_neighbors\": np.arange(1, 31),\n",
    "        \"knn__weights\": [\"uniform\", \"distance\"],\n",
    "        \"knn__p\": [1, 2],\n",
    "    }\n",
    "]\n",
    "\n",
    "knn_rnd_search = RandomizedSearchCV(knn_pipeline, param_distributions=knn_param_grid, n_iter=20, cv=5, scoring=\"accuracy\", random_state=42, n_jobs=1)"
   ]
  },
  {
   "cell_type": "markdown",
   "id": "6f4dce7c",
   "metadata": {},
   "source": [
    "## Fit Models"
   ]
  },
  {
   "cell_type": "code",
   "execution_count": 59,
   "id": "578b7df2",
   "metadata": {},
   "outputs": [
    {
     "name": "stdout",
     "output_type": "stream",
     "text": [
      "Best params: {'knn__weights': 'uniform', 'knn__p': 1, 'knn__n_neighbors': 12}\n",
      "Best CV score: 0.99921875\n"
     ]
    }
   ],
   "source": [
    "knn_rnd_search.fit(X_train, y_train)\n",
    "\n",
    "print(\"Best params:\", knn_rnd_search.best_params_)\n",
    "print(\"Best CV score:\", knn_rnd_search.best_score_)\n",
    "\n",
    "knn_y_pred = knn_rnd_search.predict(X_test)"
   ]
  },
  {
   "cell_type": "markdown",
   "id": "92fa9d4c",
   "metadata": {},
   "source": [
    "## Evaluation"
   ]
  },
  {
   "cell_type": "code",
   "execution_count": 60,
   "id": "d3f11ba5",
   "metadata": {},
   "outputs": [
    {
     "name": "stdout",
     "output_type": "stream",
     "text": [
      "              precision    recall  f1-score   support\n",
      "\n",
      "           0       1.00      1.00      1.00        20\n",
      "           1       1.00      1.00      1.00        20\n",
      "           2       1.00      1.00      1.00        20\n",
      "           3       1.00      1.00      1.00        20\n",
      "           4       1.00      1.00      1.00        20\n",
      "           5       1.00      1.00      1.00        20\n",
      "           6       1.00      1.00      1.00        20\n",
      "           7       1.00      1.00      1.00        20\n",
      "           8       1.00      1.00      1.00        20\n",
      "           9       1.00      1.00      1.00        20\n",
      "          10       1.00      1.00      1.00        20\n",
      "          11       1.00      1.00      1.00        20\n",
      "          12       1.00      1.00      1.00        20\n",
      "          13       1.00      1.00      1.00        20\n",
      "          14       1.00      1.00      1.00        20\n",
      "          15       1.00      1.00      1.00        20\n",
      "\n",
      "    accuracy                           1.00       320\n",
      "   macro avg       1.00      1.00      1.00       320\n",
      "weighted avg       1.00      1.00      1.00       320\n",
      "\n"
     ]
    },
    {
     "data": {
      "image/png": "[encoded data removed]",
      "text/plain": [
       "<Figure size 640x480 with 2 Axes>"
      ]
     },
     "metadata": {},
     "output_type": "display_data"
    }
   ],
   "source": [
    "# Get classification report\n",
    "print(classification_report(y_test, knn_y_pred))\n",
    "\n",
    "# Display confusion matrix\n",
    "ConfusionMatrixDisplay.from_predictions(y_test, knn_y_pred)\n",
    "plt.show()"
   ]
  }
 ],
 "metadata": {
  "kernelspec": {
   "display_name": "base",
   "language": "python",
   "name": "python3"
  },
  "language_info": {
   "codemirror_mode": {
    "name": "ipython",
    "version": 3
   },
   "file_extension": ".py",
   "mimetype": "text/x-python",
   "name": "python",
   "nbconvert_exporter": "python",
   "pygments_lexer": "ipython3",
   "version": "3.12.2"
  }
 },
 "nbformat": 4,
 "nbformat_minor": 5
}
