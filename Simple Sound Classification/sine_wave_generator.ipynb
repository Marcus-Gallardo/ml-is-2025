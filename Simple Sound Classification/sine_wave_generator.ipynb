{
 "cells": [
  {
   "cell_type": "markdown",
   "id": "1456d3a5",
   "metadata": {},
   "source": [
    "# Sine Wave Generator"
   ]
  },
  {
   "cell_type": "markdown",
   "id": "c51a370b",
   "metadata": {},
   "source": [
    "## Imports"
   ]
  },
  {
   "cell_type": "code",
   "execution_count": 6,
   "id": "962fdfd8",
   "metadata": {},
   "outputs": [],
   "source": [
    "import numpy as np\n",
    "import matplotlib.pyplot as plt\n",
    "import soundfile as sf"
   ]
  },
  {
   "cell_type": "markdown",
   "id": "6b45e9f8",
   "metadata": {},
   "source": [
    "## Generate Sine Waves"
   ]
  },
  {
   "cell_type": "code",
   "execution_count": 9,
   "id": "9c60e52f",
   "metadata": {},
   "outputs": [],
   "source": [
    "# Function for generating a sine wave with some noise\n",
    "def generate_sine_wave(freq, sr=22050, duration=1.0, noise=0.0):\n",
    "    # Generate time axis\n",
    "    t = np.linspace(0, duration, int(sr*duration), endpoint=False)\n",
    "\n",
    "    # Generate wave\n",
    "    wave = np.sin(2 * np.pi * freq * t)\n",
    "\n",
    "    # Add noise\n",
    "    wave += noise * np.random.randn(len(t))\n",
    "\n",
    "    return wave\n",
    "\n",
    "frequencies = [220, 440, 880]\n",
    "\n",
    "X_waves = []\n",
    "y_labels = []\n",
    "\n",
    "for label, f in enumerate(frequencies):\n",
    "    wave = generate_sine_wave(f, noise=0.1)\n",
    "\n",
    "    X_waves.append(wave)\n",
    "    y_labels.append(label)\n",
    "\n",
    "X_waves = np.array(X_waves)\n",
    "y_labels = np.array(y_labels)\n"
   ]
  },
  {
   "cell_type": "markdown",
   "id": "f8f72ef3",
   "metadata": {},
   "source": [
    "## Extract features using librosa"
   ]
  },
  {
   "cell_type": "code",
   "execution_count": null,
   "id": "b96cc905",
   "metadata": {},
   "outputs": [],
   "source": [
    "import librosa\n",
    "\n",
    "def extract_features(wave, sr=22050, n_mfcc=13):\n",
    "    # Extract MFCCs\n",
    "    mfccs = librosa.feature.mfcc(y=wave, sr=sr, n_mfcc=n_mfcc)\n",
    "\n",
    "    # Calculate mean across time so vector is fixed length (average of all MFCC features)\n",
    "    mfccs_mean = np.mean(mfccs.T, axis=0)\n",
    "    return mfccs_mean\n",
    "\n",
    "X_features = np.array([extract_features(wave) for wave in X_waves])"
   ]
  },
  {
   "cell_type": "markdown",
   "id": "23fdc304",
   "metadata": {},
   "source": [
    "## Train a "
   ]
  }
 ],
 "metadata": {
  "kernelspec": {
   "display_name": "base",
   "language": "python",
   "name": "python3"
  },
  "language_info": {
   "codemirror_mode": {
    "name": "ipython",
    "version": 3
   },
   "file_extension": ".py",
   "mimetype": "text/x-python",
   "name": "python",
   "nbconvert_exporter": "python",
   "pygments_lexer": "ipython3",
   "version": "3.13.5"
  }
 },
 "nbformat": 4,
 "nbformat_minor": 5
}
